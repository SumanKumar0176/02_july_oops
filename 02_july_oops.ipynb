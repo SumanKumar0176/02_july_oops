{
  "nbformat": 4,
  "nbformat_minor": 0,
  "metadata": {
    "colab": {
      "provenance": []
    },
    "kernelspec": {
      "name": "python3",
      "display_name": "Python 3"
    },
    "language_info": {
      "name": "python"
    }
  },
  "cells": [
    {
      "cell_type": "code",
      "execution_count": 1,
      "metadata": {
        "id": "GLcbGacX-wZ9"
      },
      "outputs": [],
      "source": [
        "#1. Explain what inheritance is in object-oriented programming and why it is used."
      ]
    },
    {
      "cell_type": "code",
      "source": [
        "\"\"\"\n",
        "Inheritance is a fundamental concept in object-oriented programming (OOP) that allows a class to inherit attributes and methods from another class. It enables the\n",
        " creation of a hierarchical relationship between classes, where one class (called the subclass or derived class) can inherit and extend the properties and behaviors\n",
        "  of another class (called the superclass or base class).\n",
        "Inheritance is used for several reasons:\n",
        "1.Code Reusability\n",
        "2.Modularity and Organization\n",
        "3.Polymorphism\n",
        "4.Specialization and Generalization\n",
        "\"\"\""
      ],
      "metadata": {
        "colab": {
          "base_uri": "https://localhost:8080/",
          "height": 70
        },
        "id": "G9ZHpetV-4qg",
        "outputId": "61cc6f05-8124-4460-9a99-e834a5dc552a"
      },
      "execution_count": 2,
      "outputs": [
        {
          "output_type": "execute_result",
          "data": {
            "text/plain": [
              "'\\nInheritance is a fundamental concept in object-oriented programming (OOP) that allows a class to inherit attributes and methods from another class. It enables the\\n creation of a hierarchical relationship between classes, where one class (called the subclass or derived class) can inherit and extend the properties and behaviors\\n  of another class (called the superclass or base class).\\nInheritance is used for several reasons:\\n1.Code Reusability\\n2.Modularity and Organization\\n3.Polymorphism\\n4.Specialization and Generalization\\n'"
            ],
            "application/vnd.google.colaboratory.intrinsic+json": {
              "type": "string"
            }
          },
          "metadata": {},
          "execution_count": 2
        }
      ]
    },
    {
      "cell_type": "code",
      "source": [
        "#2. Discuss the concept of single inheritance and multiple inheritance, highlighting their differences and advantages."
      ],
      "metadata": {
        "id": "pztr6nKY_tY-"
      },
      "execution_count": 3,
      "outputs": []
    },
    {
      "cell_type": "code",
      "source": [
        "\"\"\"\n",
        "Single inheritance involves a class inheriting from a single superclass. It simplifies the class hierarchy, promotes code organization, and makes maintenance easier. However,\n",
        " it restricts a class to inherit from only one superclass, limiting code reuse and flexibility.\n",
        "\n",
        "Multiple inheritance allows a class to inherit from multiple superclasses, enabling greater code reusability and flexibility. It promotes sharing common functionalities and\n",
        "modeling complex relationships. However, it can introduce challenges such as name ambiguity and the diamond problem. Resolving conflicts and managing the order of method calls\n",
        "become important considerations.\n",
        "\n",
        "The choice between single inheritance and multiple inheritance depends on the specific requirements and design considerations, balancing simplicity, code organization, code\n",
        " reuse, and flexibility.\n",
        "\"\"\""
      ],
      "metadata": {
        "colab": {
          "base_uri": "https://localhost:8080/",
          "height": 105
        },
        "id": "HhV3l4D6_1Tl",
        "outputId": "6203fa25-5e8c-4589-cde1-bf9fc87a4fce"
      },
      "execution_count": 4,
      "outputs": [
        {
          "output_type": "execute_result",
          "data": {
            "text/plain": [
              "'\\nSingle inheritance involves a class inheriting from a single superclass. It simplifies the class hierarchy, promotes code organization, and makes maintenance easier. However,\\n it restricts a class to inherit from only one superclass, limiting code reuse and flexibility.\\n\\nMultiple inheritance allows a class to inherit from multiple superclasses, enabling greater code reusability and flexibility. It promotes sharing common functionalities and \\nmodeling complex relationships. However, it can introduce challenges such as name ambiguity and the diamond problem. Resolving conflicts and managing the order of method calls \\nbecome important considerations.\\n\\nThe choice between single inheritance and multiple inheritance depends on the specific requirements and design considerations, balancing simplicity, code organization, code\\n reuse, and flexibility.\\n'"
            ],
            "application/vnd.google.colaboratory.intrinsic+json": {
              "type": "string"
            }
          },
          "metadata": {},
          "execution_count": 4
        }
      ]
    },
    {
      "cell_type": "code",
      "source": [
        "#3. Explain the terms \"base class\" and \"derived class\" in the context of inheritance."
      ],
      "metadata": {
        "id": "u8oOW4wIAUld"
      },
      "execution_count": 5,
      "outputs": []
    },
    {
      "cell_type": "code",
      "source": [
        "\"\"\"\n",
        "Base Class:\n",
        "A base class, also known as a superclass or parent class, is the class from which other classes inherit. It is the class that provides the attributes and methods that\n",
        " can be inherited by other classes. The base class serves as a blueprint or template for the derived classes.\n",
        "\n",
        "The base class defines a set of common attributes and behaviors that can be shared among multiple derived classes. It encapsulates the common functionality and acts as\n",
        "a foundation for more specialized classes. The base class can be extended and customized by adding additional attributes and methods in the derived classes.\n",
        "\n",
        "Derived Class:\n",
        "A derived class, also known as a subclass or child class, is a class that inherits attributes and methods from a base class. It is the class that extends or specializes\n",
        " the functionality of the base class by adding its own unique attributes and methods or by overriding the inherited ones.\n",
        "\n",
        "The derived class inherits all the attributes and methods of the base class and can modify or extend their behavior as needed. It can also define its own additional attributes and methods, specific to its requirements. The derived class can have its own hierarchy of subclasses, forming a hierarchical tree-like structure of inheritance\n",
        "\"\"\""
      ],
      "metadata": {
        "colab": {
          "base_uri": "https://localhost:8080/",
          "height": 123
        },
        "id": "HseyMM-LEMlt",
        "outputId": "3708f4af-da14-4fd0-a70f-5c354ed6bd5f"
      },
      "execution_count": 6,
      "outputs": [
        {
          "output_type": "execute_result",
          "data": {
            "text/plain": [
              "'\\nBase Class:\\nA base class, also known as a superclass or parent class, is the class from which other classes inherit. It is the class that provides the attributes and methods that\\n can be inherited by other classes. The base class serves as a blueprint or template for the derived classes.\\n\\nThe base class defines a set of common attributes and behaviors that can be shared among multiple derived classes. It encapsulates the common functionality and acts as \\na foundation for more specialized classes. The base class can be extended and customized by adding additional attributes and methods in the derived classes.\\n\\nDerived Class:\\nA derived class, also known as a subclass or child class, is a class that inherits attributes and methods from a base class. It is the class that extends or specializes\\n the functionality of the base class by adding its own unique attributes and methods or by overriding the inherited ones.\\n\\nThe derived class inherits all the attributes and methods of the base class and can modify or extend their behavior as needed. It can also define its own additional attributes and methods, specific to its requirements. The derived class can have its own hierarchy of subclasses, forming a hierarchical tree-like structure of inheritance\\n'"
            ],
            "application/vnd.google.colaboratory.intrinsic+json": {
              "type": "string"
            }
          },
          "metadata": {},
          "execution_count": 6
        }
      ]
    },
    {
      "cell_type": "code",
      "source": [
        "#4. What is the significance of the \"protected\" access modifier in inheritance? How does it differ from \"private\" and \"public\" modifiers?"
      ],
      "metadata": {
        "id": "HmUiJpdbEUN0"
      },
      "execution_count": 7,
      "outputs": []
    },
    {
      "cell_type": "code",
      "source": [
        "\"\"\"\n",
        "Public Access Modifier:\n",
        "\n",
        "1.Public attributes and methods are accessible from anywhere, both within the class and outside of it.\n",
        "2.They can be accessed and modified by any code that has access to the object of the class.\n",
        "3.In Python, attributes and methods without any underscore prefix are considered public by convention.\n",
        "\n",
        "\n",
        "Private Access Modifier:\n",
        "\n",
        "1.Private attributes and methods are intended to be accessed only within the class that defines them.\n",
        "2.They are not directly accessible from outside the class.\n",
        "3.In Python, attributes and methods with a double underscore prefix (__) are treated as private, but it's worth noting that Python name mangling is applied to these attributes, making them still accessible through some mechanisms.\n",
        "\n",
        "Protected Access Modifier:\n",
        "\n",
        "1.Protected attributes and methods are intended to be accessible within the class that defines them and its subclasses.\n",
        "2.They are not intended to be accessed from outside the class hierarchy.\n",
        "3.In Python, attributes and methods with a single underscore prefix (_) are conventionally treated as protected.\n",
        "4.Protected members are more of a naming convention and rely on the developers' understanding and adherence to the convention.\n",
        "\"\"\""
      ],
      "metadata": {
        "colab": {
          "base_uri": "https://localhost:8080/",
          "height": 123
        },
        "id": "gTVZQEN-Eccc",
        "outputId": "016217a9-89a4-40c9-f535-b9a292ad09e6"
      },
      "execution_count": 8,
      "outputs": [
        {
          "output_type": "execute_result",
          "data": {
            "text/plain": [
              "\"\\nPublic Access Modifier:\\n\\n1.Public attributes and methods are accessible from anywhere, both within the class and outside of it.\\n2.They can be accessed and modified by any code that has access to the object of the class.\\n3.In Python, attributes and methods without any underscore prefix are considered public by convention.\\n\\n\\nPrivate Access Modifier:\\n\\n1.Private attributes and methods are intended to be accessed only within the class that defines them.\\n2.They are not directly accessible from outside the class.\\n3.In Python, attributes and methods with a double underscore prefix (__) are treated as private, but it's worth noting that Python name mangling is applied to these attributes, making them still accessible through some mechanisms.\\n\\nProtected Access Modifier:\\n\\n1.Protected attributes and methods are intended to be accessible within the class that defines them and its subclasses.\\n2.They are not intended to be accessed from outside the class hierarchy.\\n3.In Python, attributes and methods with a single underscore prefix (_) are conventionally treated as protected.\\n4.Protected members are more of a naming convention and rely on the developers' understanding and adherence to the convention.\\n\""
            ],
            "application/vnd.google.colaboratory.intrinsic+json": {
              "type": "string"
            }
          },
          "metadata": {},
          "execution_count": 8
        }
      ]
    },
    {
      "cell_type": "code",
      "source": [
        "#5. What is the purpose of the \"super\" keyword in inheritance? Provide an example."
      ],
      "metadata": {
        "id": "GYVCRoa4FDb1"
      },
      "execution_count": 9,
      "outputs": []
    },
    {
      "cell_type": "code",
      "source": [
        "\"\"\"\n",
        "The super keyword in Python is used to refer to the superclass or base class from within a derived class. It provides a way to invoke and access the\n",
        " attributes and methods of the superclass, allowing for inheritance and overriding.\n",
        "\n",
        "The purpose of the super keyword is to facilitate the execution of the base class's methods and constructors within the context of the derived class. It\n",
        " allows the derived class to extend or override the behavior of the base class while still utilizing the base class's functionality.\n",
        "\n",
        "\"\"\""
      ],
      "metadata": {
        "colab": {
          "base_uri": "https://localhost:8080/",
          "height": 70
        },
        "id": "xgRjVGhaFQlU",
        "outputId": "78bed38c-db79-4b02-89fd-a57d37b939d8"
      },
      "execution_count": 10,
      "outputs": [
        {
          "output_type": "execute_result",
          "data": {
            "text/plain": [
              "\"\\nThe super keyword in Python is used to refer to the superclass or base class from within a derived class. It provides a way to invoke and access the\\n attributes and methods of the superclass, allowing for inheritance and overriding.\\n\\nThe purpose of the super keyword is to facilitate the execution of the base class's methods and constructors within the context of the derived class. It\\n allows the derived class to extend or override the behavior of the base class while still utilizing the base class's functionality.\\n\\n\""
            ],
            "application/vnd.google.colaboratory.intrinsic+json": {
              "type": "string"
            }
          },
          "metadata": {},
          "execution_count": 10
        }
      ]
    },
    {
      "cell_type": "code",
      "source": [
        "class Animal:\n",
        "    def __init__(self, name):\n",
        "        self.name = name\n",
        "\n",
        "    def speak(self):\n",
        "        print(\"Animal speaks.\")\n",
        "\n",
        "class Cat(Animal):\n",
        "    def __init__(self, name):\n",
        "        super().__init__(name)  # Call the base class's constructor\n",
        "        self.sound = \"Meow\"\n",
        "\n",
        "    def speak(self):\n",
        "        super().speak()  # Call the base class's method\n",
        "        print(f\"{self.name} says {self.sound}.\")\n",
        "\n",
        "# Creating an instance of the derived class\n",
        "cat = Cat(\"Whiskers\")\n",
        "\n",
        "# Calling the overridden method and the base class's method\n",
        "cat.speak()\n"
      ],
      "metadata": {
        "colab": {
          "base_uri": "https://localhost:8080/"
        },
        "id": "ULQxSke3FiEE",
        "outputId": "f9f9e4f0-22ad-4624-be78-8afd9eee4be2"
      },
      "execution_count": 11,
      "outputs": [
        {
          "output_type": "stream",
          "name": "stdout",
          "text": [
            "Animal speaks.\n",
            "Whiskers says Meow.\n"
          ]
        }
      ]
    },
    {
      "cell_type": "code",
      "source": [
        "\"\"\"\n",
        "6. Create a base class called \"Vehicle\" with attributes like \"make\", \"model\", and \"year\".\n",
        "Then, create a derived class called \"Car\" that inherits from \"Vehicle\" and adds an\n",
        "attribute called \"fuel_type\". Implement appropriate methods in both classes.\n",
        "\"\"\""
      ],
      "metadata": {
        "colab": {
          "base_uri": "https://localhost:8080/",
          "height": 53
        },
        "id": "3yPV-VFBFlhk",
        "outputId": "8535f0c5-4959-4149-fa07-b84f33ebe8f0"
      },
      "execution_count": 12,
      "outputs": [
        {
          "output_type": "execute_result",
          "data": {
            "text/plain": [
              "'\\n6. Create a base class called \"Vehicle\" with attributes like \"make\", \"model\", and \"year\".\\nThen, create a derived class called \"Car\" that inherits from \"Vehicle\" and adds an\\nattribute called \"fuel_type\". Implement appropriate methods in both classes.\\n'"
            ],
            "application/vnd.google.colaboratory.intrinsic+json": {
              "type": "string"
            }
          },
          "metadata": {},
          "execution_count": 12
        }
      ]
    },
    {
      "cell_type": "code",
      "source": [
        "class Vehicle:\n",
        "    def __init__(self, make, model, year):\n",
        "        self.make = make\n",
        "        self.model = model\n",
        "        self.year = year\n",
        "\n",
        "    def get_make(self):\n",
        "        return self.make\n",
        "\n",
        "    def get_model(self):\n",
        "        return self.model\n",
        "\n",
        "    def get_year(self):\n",
        "        return self.year\n",
        "\n",
        "    def display_info(self):\n",
        "        print(f\"Make: {self.make}\")\n",
        "        print(f\"Model: {self.model}\")\n",
        "        print(f\"Year: {self.year}\")\n",
        "\n",
        "\n",
        "class Car(Vehicle):\n",
        "    def __init__(self, make, model, year, fuel_type):\n",
        "        super().__init__(make, model, year)\n",
        "        self.fuel_type = fuel_type\n",
        "\n",
        "    def get_fuel_type(self):\n",
        "        return self.fuel_type\n",
        "\n",
        "    def display_info(self):\n",
        "        super().display_info()\n",
        "        print(f\"Fuel Type: {self.fuel_type}\")\n",
        "\n",
        "\n",
        "# Example usage:\n",
        "vehicle = Vehicle(\"Toyota\", \"Corolla\", 2022)\n",
        "vehicle.display_info()      # Output: Make: Toyota, Model: Corolla, Year: 2022\n",
        "\n",
        "car = Car(\"Honda\", \"Civic\", 2023, \"Petrol\")\n",
        "car.display_info()          # Output: Make: Honda, Model: Civic, Year: 2023, Fuel Type: Petrol\n"
      ],
      "metadata": {
        "colab": {
          "base_uri": "https://localhost:8080/"
        },
        "id": "BGlNSdzlFwg0",
        "outputId": "509b4c0d-b700-4371-8a38-73850a82d0b4"
      },
      "execution_count": 13,
      "outputs": [
        {
          "output_type": "stream",
          "name": "stdout",
          "text": [
            "Make: Toyota\n",
            "Model: Corolla\n",
            "Year: 2022\n",
            "Make: Honda\n",
            "Model: Civic\n",
            "Year: 2023\n",
            "Fuel Type: Petrol\n"
          ]
        }
      ]
    },
    {
      "cell_type": "code",
      "source": [
        "\"\"\"\n",
        "7. Create a base class called \"Employee\" with attributes like \"name\" and \"salary.\"\n",
        "Derive two classes, \"Manager\" and \"Developer,\" from \"Employee.\" Add an additional\n",
        "attribute called \"department\" for the \"Manager\" class and \"programming_language\"\n",
        "for the \"Developer\" class.\n",
        "\"\"\""
      ],
      "metadata": {
        "colab": {
          "base_uri": "https://localhost:8080/",
          "height": 53
        },
        "id": "SRReOJ5NF5Nk",
        "outputId": "88e44680-0874-4637-c5c3-d43332d7605e"
      },
      "execution_count": 14,
      "outputs": [
        {
          "output_type": "execute_result",
          "data": {
            "text/plain": [
              "'\\n7. Create a base class called \"Employee\" with attributes like \"name\" and \"salary.\"\\nDerive two classes, \"Manager\" and \"Developer,\" from \"Employee.\" Add an additional\\nattribute called \"department\" for the \"Manager\" class and \"programming_language\"\\nfor the \"Developer\" class.\\n'"
            ],
            "application/vnd.google.colaboratory.intrinsic+json": {
              "type": "string"
            }
          },
          "metadata": {},
          "execution_count": 14
        }
      ]
    },
    {
      "cell_type": "code",
      "source": [
        "class Employee:\n",
        "    def __init__(self, name, salary):\n",
        "        self.name = name\n",
        "        self.salary = salary\n",
        "\n",
        "    def get_name(self):\n",
        "        return self.name\n",
        "\n",
        "    def get_salary(self):\n",
        "        return self.salary\n",
        "\n",
        "\n",
        "class Manager(Employee):\n",
        "    def __init__(self, name, salary, department):\n",
        "        super().__init__(name, salary)\n",
        "        self.department = department\n",
        "\n",
        "    def get_department(self):\n",
        "        return self.department\n",
        "\n",
        "\n",
        "class Developer(Employee):\n",
        "    def __init__(self, name, salary, programming_language):\n",
        "        super().__init__(name, salary)\n",
        "        self.programming_language = programming_language\n",
        "\n",
        "    def get_programming_language(self):\n",
        "        return self.programming_language\n",
        "\n",
        "\n",
        "# Example usage:\n",
        "employee = Employee(\"John Doe\", 5000)\n",
        "print(employee.get_name())          # Output: John Doe\n",
        "print(employee.get_salary())        # Output: 5000\n",
        "\n",
        "manager = Manager(\"Jane Smith\", 8000, \"HR\")\n",
        "print(manager.get_name())           # Output: Jane Smith\n",
        "print(manager.get_salary())         # Output: 8000\n",
        "print(manager.get_department())     # Output: HR\n",
        "\n",
        "developer = Developer(\"Mark Johnson\", 6000, \"Python\")\n",
        "print(developer.get_name())         # Output: Mark Johnson\n",
        "print(developer.get_salary())       # Output: 6000\n",
        "print(developer.get_programming_language())  # Output: Python\n"
      ],
      "metadata": {
        "id": "o9BuZzhEGbeE"
      },
      "execution_count": null,
      "outputs": []
    },
    {
      "cell_type": "code",
      "source": [
        "\"\"\"\n",
        "8. Design a base class called \"Shape\" with attributes like \"colour\" and \"border_width.\"\n",
        "Create derived classes, \"Rectangle\" and \"Circle,\" that inherit from \"Shape\" and add\n",
        "specific attributes like \"length\" and \"width\" for the \"Rectangle\" class and \"radius\" for\n",
        "the \"Circle\" class.\n",
        "\"\"\""
      ],
      "metadata": {
        "id": "LLuVfhy0G0_U"
      },
      "execution_count": null,
      "outputs": []
    },
    {
      "cell_type": "code",
      "source": [
        "class Shape:\n",
        "    def __init__(self, colour, border_width):\n",
        "        self.colour = colour\n",
        "        self.border_width = border_width\n",
        "\n",
        "    def get_colour(self):\n",
        "        return self.colour\n",
        "\n",
        "    def get_border_width(self):\n",
        "        return self.border_width\n",
        "\n",
        "\n",
        "class Rectangle(Shape):\n",
        "    def __init__(self, colour, border_width, length, width):\n",
        "        super().__init__(colour, border_width)\n",
        "        self.length = length\n",
        "        self.width = width\n",
        "\n",
        "    def get_length(self):\n",
        "        return self.length\n",
        "\n",
        "    def get_width(self):\n",
        "        return self.width\n",
        "\n",
        "\n",
        "class Circle(Shape):\n",
        "    def __init__(self, colour, border_width, radius):\n",
        "        super().__init__(colour, border_width)\n",
        "        self.radius = radius\n",
        "\n",
        "    def get_radius(self):\n",
        "        return self.radius\n",
        "\n",
        "\n",
        "# Example usage:\n",
        "shape = Shape(\"Red\", 2)\n",
        "print(shape.get_colour())         # Output: Red\n",
        "print(shape.get_border_width())   # Output: 2\n",
        "\n",
        "rectangle = Rectangle(\"Blue\", 1, 5, 3)\n",
        "print(rectangle.get_colour())     # Output: Blue\n",
        "print(rectangle.get_border_width())  # Output: 1\n",
        "print(rectangle.get_length())     # Output: 5\n",
        "print(rectangle.get_width())      # Output: 3\n",
        "\n",
        "circle = Circle(\"Green\", 2, 4)\n",
        "print(circle.get_colour())        # Output: Green\n",
        "print(circle.get_border_width())  # Output: 2\n",
        "print(circle.get_radius())        # Output: 4\n"
      ],
      "metadata": {
        "colab": {
          "base_uri": "https://localhost:8080/"
        },
        "id": "_zB0dogVG6QU",
        "outputId": "0aacab4d-1c69-43b0-fe92-21e0d25451c1"
      },
      "execution_count": 15,
      "outputs": [
        {
          "output_type": "stream",
          "name": "stdout",
          "text": [
            "Red\n",
            "2\n",
            "Blue\n",
            "1\n",
            "5\n",
            "3\n",
            "Green\n",
            "2\n",
            "4\n"
          ]
        }
      ]
    },
    {
      "cell_type": "code",
      "source": [
        "\"\"\"\n",
        "9. Create a base class called \"Device\" with attributes like \"brand\" and \"model.\" Derive\n",
        "two classes, \"Phone\" and \"Tablet,\" from \"Device.\" Add specific attributes like\n",
        "\"screen_size\" for the \"Phone\" class and \"battery_capacity\" for the \"Tablet\" class.\n",
        "\"\"\""
      ],
      "metadata": {
        "colab": {
          "base_uri": "https://localhost:8080/",
          "height": 53
        },
        "id": "p_6M2UGVLtl_",
        "outputId": "65004cfc-7559-4608-83e3-83b3caf52903"
      },
      "execution_count": 16,
      "outputs": [
        {
          "output_type": "execute_result",
          "data": {
            "text/plain": [
              "'\\n9. Create a base class called \"Device\" with attributes like \"brand\" and \"model.\" Derive\\ntwo classes, \"Phone\" and \"Tablet,\" from \"Device.\" Add specific attributes like\\n\"screen_size\" for the \"Phone\" class and \"battery_capacity\" for the \"Tablet\" class.\\n'"
            ],
            "application/vnd.google.colaboratory.intrinsic+json": {
              "type": "string"
            }
          },
          "metadata": {},
          "execution_count": 16
        }
      ]
    },
    {
      "cell_type": "code",
      "source": [
        "class Device:\n",
        "    def __init__(self, brand, model):\n",
        "        self.brand = brand\n",
        "        self.model = model\n",
        "\n",
        "    def get_brand(self):\n",
        "        return self.brand\n",
        "\n",
        "    def get_model(self):\n",
        "        return self.model\n",
        "\n",
        "\n",
        "class Phone(Device):\n",
        "    def __init__(self, brand, model, screen_size):\n",
        "        super().__init__(brand, model)\n",
        "        self.screen_size = screen_size\n",
        "\n",
        "    def get_screen_size(self):\n",
        "        return self.screen_size\n",
        "\n",
        "\n",
        "class Tablet(Device):\n",
        "    def __init__(self, brand, model, battery_capacity):\n",
        "        super().__init__(brand, model)\n",
        "        self.battery_capacity = battery_capacity\n",
        "\n",
        "    def get_battery_capacity(self):\n",
        "        return self.battery_capacity\n",
        "\n",
        "\n",
        "# Example usage:\n",
        "device = Device(\"Samsung\", \"Galaxy\")\n",
        "print(device.get_brand())                # Output: Samsung\n",
        "print(device.get_model())                # Output: Galaxy\n",
        "\n",
        "phone = Phone(\"Apple\", \"iPhone 12\", 6.1)\n",
        "print(phone.get_brand())                 # Output: Apple\n",
        "print(phone.get_model())                 # Output: iPhone 12\n",
        "print(phone.get_screen_size())           # Output: 6.1\n",
        "\n",
        "tablet = Tablet(\"Microsoft\", \"Surface\", 8000)\n",
        "print(tablet.get_brand())                # Output: Microsoft\n",
        "print(tablet.get_model())                # Output: Surface\n",
        "print(tablet.get_battery_capacity())     # Output: 8000\n"
      ],
      "metadata": {
        "colab": {
          "base_uri": "https://localhost:8080/"
        },
        "id": "kcsFip4hLyxU",
        "outputId": "9d0dafff-ba42-43a7-b8e5-7041fa413802"
      },
      "execution_count": 17,
      "outputs": [
        {
          "output_type": "stream",
          "name": "stdout",
          "text": [
            "Samsung\n",
            "Galaxy\n",
            "Apple\n",
            "iPhone 12\n",
            "6.1\n",
            "Microsoft\n",
            "Surface\n",
            "8000\n"
          ]
        }
      ]
    },
    {
      "cell_type": "code",
      "source": [
        "\"\"\"\n",
        "10. Create a base class called \"BankAccount\" with attributes like \"account_number\" and\n",
        "\"balance.\" Derive two classes, \"SavingsAccount\" and \"CheckingAccount,\" from\n",
        "\"BankAccount.\" Add specific methods like \"calculate_interest\" for the\n",
        "\"SavingsAccount\" class and \"deduct_fees\" for the \"CheckingAccount\" class.\n",
        "\"\"\""
      ],
      "metadata": {
        "colab": {
          "base_uri": "https://localhost:8080/",
          "height": 53
        },
        "id": "orLJg-8nMCFk",
        "outputId": "26c46ef5-6e15-47a5-e997-e301ba4d901d"
      },
      "execution_count": 18,
      "outputs": [
        {
          "output_type": "execute_result",
          "data": {
            "text/plain": [
              "'\\n10. Create a base class called \"BankAccount\" with attributes like \"account_number\" and\\n\"balance.\" Derive two classes, \"SavingsAccount\" and \"CheckingAccount,\" from\\n\"BankAccount.\" Add specific methods like \"calculate_interest\" for the\\n\"SavingsAccount\" class and \"deduct_fees\" for the \"CheckingAccount\" class.\\n'"
            ],
            "application/vnd.google.colaboratory.intrinsic+json": {
              "type": "string"
            }
          },
          "metadata": {},
          "execution_count": 18
        }
      ]
    },
    {
      "cell_type": "code",
      "source": [
        "class BankAccount:\n",
        "    def __init__(self, account_number, balance):\n",
        "        self.account_number = account_number\n",
        "        self.balance = balance\n",
        "\n",
        "    def get_account_number(self):\n",
        "        return self.account_number\n",
        "\n",
        "    def get_balance(self):\n",
        "        return self.balance\n",
        "\n",
        "\n",
        "class SavingsAccount(BankAccount):\n",
        "    def calculate_interest(self, rate):\n",
        "        interest = self.balance * rate\n",
        "        self.balance += interest\n",
        "\n",
        "    def display_account_info(self):\n",
        "        print(\"Account Number:\", self.account_number)\n",
        "        print(\"Balance:\", self.balance)\n",
        "\n",
        "\n",
        "class CheckingAccount(BankAccount):\n",
        "    def deduct_fees(self, fees):\n",
        "        self.balance -= fees\n",
        "\n",
        "    def display_account_info(self):\n",
        "        print(\"Account Number:\", self.account_number)\n",
        "        print(\"Balance:\", self.balance)\n",
        "\n",
        "\n",
        "# Example usage:\n",
        "savings_account = SavingsAccount(\"123456789\", 1000)\n",
        "savings_account.calculate_interest(0.05)  # 5% interest rate\n",
        "savings_account.display_account_info()    # Output: Account Number: 123456789, Balance: 1050.0\n",
        "\n",
        "checking_account = CheckingAccount(\"987654321\", 2000)\n",
        "checking_account.deduct_fees(50)\n",
        "checking_account.display_account_info()   # Output: Account Number: 987654321, Balance: 1950\n"
      ],
      "metadata": {
        "colab": {
          "base_uri": "https://localhost:8080/"
        },
        "id": "emNyvv9vMHBc",
        "outputId": "cff52734-246c-4a21-dab9-a97f0cc6e04f"
      },
      "execution_count": 19,
      "outputs": [
        {
          "output_type": "stream",
          "name": "stdout",
          "text": [
            "Account Number: 123456789\n",
            "Balance: 1050.0\n",
            "Account Number: 987654321\n",
            "Balance: 1950\n"
          ]
        }
      ]
    },
    {
      "cell_type": "code",
      "source": [],
      "metadata": {
        "id": "vBI8E0ADMUOz"
      },
      "execution_count": null,
      "outputs": []
    }
  ]
}